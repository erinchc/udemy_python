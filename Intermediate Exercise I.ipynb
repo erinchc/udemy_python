{
 "cells": [
  {
   "cell_type": "code",
   "execution_count": 1,
   "id": "80abc15c",
   "metadata": {},
   "outputs": [
    {
     "name": "stdout",
     "output_type": "stream",
     "text": [
      "[-3, 0, 0.5, 1, 2, 17]\n"
     ]
    }
   ],
   "source": [
    "# Write a function called \"mySort\" that takes an list of integers as input, \n",
    "# and returns the sorted version of the input list. You are not allowed to use the built-in sorted() function.\n",
    "\n",
    "def findMin(lst):\n",
    "    if len(lst) == 0:\n",
    "        return 'undefined'\n",
    "    min_ele = lst[0]\n",
    "    for ele in lst:\n",
    "        if ele < min_ele:\n",
    "            min_ele = ele\n",
    "    return min_ele\n",
    "\n",
    "def mySort(myList):\n",
    "    result_list = []\n",
    "    while len(myList)>0:\n",
    "        i = findMin(myList)\n",
    "        result_list.append(i)\n",
    "        myList.remove(i)\n",
    "    print(result_list)\n",
    "    return result_list       \n",
    "\n",
    "mySort([17, 0, -3, 2, 1, 0.5]); # returns [-3, 0, 0.5, 1, 2, 17]"
   ]
  },
  {
   "cell_type": "code",
   "execution_count": 38,
   "id": "9cb24d69",
   "metadata": {},
   "outputs": [
    {
     "name": "stdout",
     "output_type": "stream",
     "text": [
      "False\n",
      "True\n",
      "False\n",
      "False\n"
     ]
    }
   ],
   "source": [
    "# Write a function called \"isPrime\" that takes an integer as input, \n",
    "# and returns a boolean value that indicates if the input number is prime.\n",
    "\n",
    "def isPrime(a):\n",
    "    if a <= 1:\n",
    "        print(False)\n",
    "        return False\n",
    "    for i in range(2,a):\n",
    "        if a % i == 0:\n",
    "            print(False)\n",
    "            return False\n",
    "    print(True)\n",
    "    return True\n",
    "    \n",
    "isPrime(1); # returns false\n",
    "isPrime(2); # returns true\n",
    "isPrime(91); # returns false\n",
    "isPrime(10001); # returns false"
   ]
  },
  {
   "cell_type": "code",
   "execution_count": 4,
   "id": "01973ebf",
   "metadata": {},
   "outputs": [
    {
     "name": "stdout",
     "output_type": "stream",
     "text": [
      "True\n",
      "True\n",
      "False\n",
      "True\n"
     ]
    }
   ],
   "source": [
    "# Write a function called \"palindrome\" that checks if the input string is a palindrome. \n",
    "# (Search on google if you don't know what a palindrome is.)\n",
    "\n",
    "def palindrome(string):\n",
    "    r1 = ''\n",
    "    r2 = ''\n",
    "    for i in range((len(string)+1) // 2):\n",
    "        r1 += string[i]\n",
    "    for j in range(-1,-((len(string)+1) // 2)-1,-1):\n",
    "        r2 += string[j]\n",
    "    if r1 == r2:\n",
    "        print(True)\n",
    "        return True\n",
    "    print(False)\n",
    "    return False\n",
    "\n",
    "palindrome(\"bearaeb\"); # true\n",
    "palindrome(\"Whatever revetahW\"); # true\n",
    "palindrome(\"Aloha, how are you today?\"); # false\n",
    "palindrome(\"AKA\");  # true"
   ]
  },
  {
   "cell_type": "code",
   "execution_count": 39,
   "id": "07b6a1ae",
   "metadata": {},
   "outputs": [
    {
     "name": "stdout",
     "output_type": "stream",
     "text": [
      "   *\n",
      "  ***\n",
      " *****\n",
      "*******\n"
     ]
    }
   ],
   "source": [
    "# Write a function called \"pyramid\" that takes an integer as input, \n",
    "# and prints a pyramid in the following pattern:\n",
    "# pyramid(1);\n",
    "# *\n",
    "# pyramid(2);\n",
    "#  *\n",
    "# ***\n",
    "\n",
    "def pyramid(a):\n",
    "    for i in range(1, a + 1):\n",
    "        stars = '*' * (2 * i - 1)\n",
    "        spaces = ' ' * (a - i)\n",
    "        print(spaces + stars)\n",
    "\n",
    "pyramid(4)"
   ]
  },
  {
   "cell_type": "code",
   "execution_count": 52,
   "id": "aeaca4d8",
   "metadata": {},
   "outputs": [
    {
     "name": "stdout",
     "output_type": "stream",
     "text": [
      "*******\n",
      " *****\n",
      "  ***\n",
      "   *\n"
     ]
    }
   ],
   "source": [
    "# Write a function called \"inversePyramid\" that draws pyramid upside down.\n",
    "# inversePyramid(4);\n",
    "# *******\n",
    "#  *****\n",
    "#   ***\n",
    "#    *\n",
    "\n",
    "def inversePyramid(a):\n",
    "    for i in range(a, 0, -1):\n",
    "        stars = '*' * (2 * i - 1)\n",
    "        spaces = ' ' * (a - i)\n",
    "        print(spaces + stars)\n",
    "        \n",
    "inversePyramid(4)"
   ]
  },
  {
   "cell_type": "code",
   "execution_count": 3,
   "id": "779728ec",
   "metadata": {
    "scrolled": true
   },
   "outputs": [
    {
     "name": "stdout",
     "output_type": "stream",
     "text": [
      "True\n",
      "False\n",
      "False\n"
     ]
    }
   ],
   "source": [
    "# Given a list of ints, return True if the list contains a 3 next to a 3.\n",
    "# print(has_33([1, 5, 7, 3, 3])) # True\n",
    "# print(has_33([])) # False\n",
    "# print(has_33([4, 3, 2, 1, 0])) # False\n",
    "\n",
    "def has_33(lst):\n",
    "    target = '33'\n",
    "    new = ''\n",
    "    for i in lst:\n",
    "        new = new + str(i)\n",
    "    if target in new:\n",
    "        return True\n",
    "    return False\n",
    "\n",
    "print(has_33([1, 5, 7, 3, 3])) # True\n",
    "print(has_33([])) # False\n",
    "print(has_33([4, 3, 2, 1, 0])) # False\n",
    "        "
   ]
  },
  {
   "cell_type": "code",
   "execution_count": 10,
   "id": "9dd56f89",
   "metadata": {},
   "outputs": [
    {
     "name": "stdout",
     "output_type": "stream",
     "text": [
      "True\n",
      "False\n",
      "False\n"
     ]
    }
   ],
   "source": [
    "def has_33(lst):\n",
    "    result = False\n",
    "    for i in range(len(lst)-1):\n",
    "        if lst[i] == 3 and lst[i+1] == 3:\n",
    "            result = True\n",
    "    return result\n",
    "\n",
    "print(has_33([1, 5, 7, 3, 3])) # True\n",
    "print(has_33([])) # False\n",
    "print(has_33([4, 3, 2, 1, 0])) # False\n",
    "   "
   ]
  },
  {
   "cell_type": "code",
   "execution_count": 4,
   "id": "82053f52",
   "metadata": {},
   "outputs": [
    {
     "name": "stdout",
     "output_type": "stream",
     "text": [
      "True\n",
      "False\n"
     ]
    }
   ],
   "source": [
    "# Write a function that check if a list contains a subsequence of 007\n",
    "# print(spyGame([1, 2, 4, 0, 3, 0, 7])) # True\n",
    "# print(spyGame([1, 2, 5, 0, 3, 1, 7])) # False\n",
    "\n",
    "def spyGame(lst):\n",
    "    target = '007'\n",
    "    string = ''\n",
    "    for a in lst:\n",
    "        if a == 0:\n",
    "            string = string + str(a)\n",
    "    for b in lst:\n",
    "        if b == 7:\n",
    "            string = string + str(b)\n",
    "    if target == string:\n",
    "        return True\n",
    "    return False\n",
    "\n",
    "print(spyGame([1, 2, 4, 0, 3, 0, 7])) # True\n",
    "print(spyGame([1, 2, 5, 0, 3, 1, 7])) # False"
   ]
  },
  {
   "cell_type": "code",
   "execution_count": 19,
   "id": "03e3d679",
   "metadata": {},
   "outputs": [
    {
     "name": "stdout",
     "output_type": "stream",
     "text": [
      "True\n",
      "False\n"
     ]
    }
   ],
   "source": [
    "def spyGame(lst):\n",
    "    target = '007'\n",
    "    pointer_lst = 0\n",
    "    pointer_target = 0\n",
    "    \n",
    "    while pointer_lst < len(lst):\n",
    "        if lst[pointer_lst] == int(target[pointer_target]):\n",
    "            pointer_target += 1\n",
    "            if pointer_target == len(target):\n",
    "                return True\n",
    "        pointer_lst += 1\n",
    "    return False\n",
    "\n",
    "print(spyGame([1, 2, 4, 0, 3, 0, 7])) # True\n",
    "print(spyGame([1, 2, 5, 0, 3, 1, 7])) # False"
   ]
  }
 ],
 "metadata": {
  "kernelspec": {
   "display_name": "Python 3 (ipykernel)",
   "language": "python",
   "name": "python3"
  },
  "language_info": {
   "codemirror_mode": {
    "name": "ipython",
    "version": 3
   },
   "file_extension": ".py",
   "mimetype": "text/x-python",
   "name": "python",
   "nbconvert_exporter": "python",
   "pygments_lexer": "ipython3",
   "version": "3.9.13"
  }
 },
 "nbformat": 4,
 "nbformat_minor": 5
}
