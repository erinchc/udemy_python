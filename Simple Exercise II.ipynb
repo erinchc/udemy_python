{
 "cells": [
  {
   "cell_type": "code",
   "execution_count": 5,
   "id": "0e45b5de",
   "metadata": {},
   "outputs": [
    {
     "name": "stdout",
     "output_type": "stream",
     "text": [
      "*\n",
      "*\n",
      "**\n",
      "***\n",
      "****\n"
     ]
    }
   ],
   "source": [
    "# Write a function called \"stars\" which prints out layers of stars in the following pattern:\n",
    "# stars(1);\n",
    "# *\n",
    "# stars(4);\n",
    "# *\n",
    "# **\n",
    "# ***\n",
    "# ****\n",
    "\n",
    "def stars(num):\n",
    "    for i in range(1, num+1):\n",
    "        print('*'* i)\n",
    "\n",
    "stars(1)\n",
    "stars(4)"
   ]
  },
  {
   "cell_type": "code",
   "execution_count": 18,
   "id": "ce94d54e",
   "metadata": {},
   "outputs": [
    {
     "name": "stdout",
     "output_type": "stream",
     "text": [
      "*\n",
      "**\n",
      "***\n",
      "****\n",
      "***\n",
      "**\n",
      "*\n"
     ]
    }
   ],
   "source": [
    "# Write a function called \"stars2\" which prints out layers of stars in the following pattern:\n",
    "# stars2(2);\n",
    "# *\n",
    "# **\n",
    "# *\n",
    "# stars2(3);\n",
    "# *\n",
    "# **\n",
    "# ***\n",
    "# **\n",
    "# *\n",
    "\n",
    "def stars2(layers):\n",
    "    for i in range(1,layers + 1):\n",
    "        print('*' * i)\n",
    "    for j in range(layers - 1,0,-1):\n",
    "        print('*' * j)\n",
    "\n",
    "stars2(4)\n",
    "        "
   ]
  },
  {
   "cell_type": "code",
   "execution_count": 1,
   "id": "014cd635",
   "metadata": {},
   "outputs": [
    {
     "name": "stdout",
     "output_type": "stream",
     "text": [
      "3 x 1 = 3\n",
      "3 x 2 = 6\n",
      "3 x 3 = 9\n",
      "3 x 4 = 12\n",
      "3 x 5 = 15\n",
      "3 x 6 = 18\n",
      "3 x 7 = 21\n",
      "3 x 8 = 24\n",
      "3 x 9 = 27\n"
     ]
    }
   ],
   "source": [
    "# Write a function called \"table\" which takes an input n, and prints out n x 1 to n x 9\n",
    "\n",
    "def table(num):\n",
    "    for i in range(1,10):\n",
    "        print(f'{num} x {i} = {num*i}')\n",
    "table(3)"
   ]
  },
  {
   "cell_type": "code",
   "execution_count": 29,
   "id": "d7892931",
   "metadata": {
    "collapsed": true
   },
   "outputs": [
    {
     "name": "stdout",
     "output_type": "stream",
     "text": [
      "1 x 1 = 1\n",
      "1 x 2 = 2\n",
      "1 x 3 = 3\n",
      "1 x 4 = 4\n",
      "1 x 5 = 5\n",
      "1 x 6 = 6\n",
      "1 x 7 = 7\n",
      "1 x 8 = 8\n",
      "1 x 9 = 9\n",
      "2 x 1 = 2\n",
      "2 x 2 = 4\n",
      "2 x 3 = 6\n",
      "2 x 4 = 8\n",
      "2 x 5 = 10\n",
      "2 x 6 = 12\n",
      "2 x 7 = 14\n",
      "2 x 8 = 16\n",
      "2 x 9 = 18\n",
      "3 x 1 = 3\n",
      "3 x 2 = 6\n",
      "3 x 3 = 9\n",
      "3 x 4 = 12\n",
      "3 x 5 = 15\n",
      "3 x 6 = 18\n",
      "3 x 7 = 21\n",
      "3 x 8 = 24\n",
      "3 x 9 = 27\n",
      "4 x 1 = 4\n",
      "4 x 2 = 8\n",
      "4 x 3 = 12\n",
      "4 x 4 = 16\n",
      "4 x 5 = 20\n",
      "4 x 6 = 24\n",
      "4 x 7 = 28\n",
      "4 x 8 = 32\n",
      "4 x 9 = 36\n",
      "5 x 1 = 5\n",
      "5 x 2 = 10\n",
      "5 x 3 = 15\n",
      "5 x 4 = 20\n",
      "5 x 5 = 25\n",
      "5 x 6 = 30\n",
      "5 x 7 = 35\n",
      "5 x 8 = 40\n",
      "5 x 9 = 45\n",
      "6 x 1 = 6\n",
      "6 x 2 = 12\n",
      "6 x 3 = 18\n",
      "6 x 4 = 24\n",
      "6 x 5 = 30\n",
      "6 x 6 = 36\n",
      "6 x 7 = 42\n",
      "6 x 8 = 48\n",
      "6 x 9 = 54\n",
      "7 x 1 = 7\n",
      "7 x 2 = 14\n",
      "7 x 3 = 21\n",
      "7 x 4 = 28\n",
      "7 x 5 = 35\n",
      "7 x 6 = 42\n",
      "7 x 7 = 49\n",
      "7 x 8 = 56\n",
      "7 x 9 = 63\n",
      "8 x 1 = 8\n",
      "8 x 2 = 16\n",
      "8 x 3 = 24\n",
      "8 x 4 = 32\n",
      "8 x 5 = 40\n",
      "8 x 6 = 48\n",
      "8 x 7 = 56\n",
      "8 x 8 = 64\n",
      "8 x 9 = 72\n",
      "9 x 1 = 9\n",
      "9 x 2 = 18\n",
      "9 x 3 = 27\n",
      "9 x 4 = 36\n",
      "9 x 5 = 45\n",
      "9 x 6 = 54\n",
      "9 x 7 = 63\n",
      "9 x 8 = 72\n",
      "9 x 9 = 81\n"
     ]
    }
   ],
   "source": [
    "# Write a function called \"table9to9\" that prints out the multiplication table:\n",
    "\n",
    "def table9to9():\n",
    "    for a in range(1,10):\n",
    "        for b in range(1,10):\n",
    "            result = a * b\n",
    "            print(f'{a} x {b} = {result}')\n",
    "    \n",
    "table9to9()"
   ]
  },
  {
   "cell_type": "code",
   "execution_count": 3,
   "id": "c49232db",
   "metadata": {},
   "outputs": [
    {
     "name": "stdout",
     "output_type": "stream",
     "text": [
      "aLOHA\n",
      "lOVE YOU.\n"
     ]
    }
   ],
   "source": [
    "# Write a function called \"swap\" that takes a string as input, \n",
    "# and returns a new string with lowercase changed to uppercase, uppercase changed to lowercase.\n",
    "\n",
    "def swap(string):\n",
    "    result = ''\n",
    "    for i in string:\n",
    "        if i == i.upper():\n",
    "            result += i.lower()\n",
    "        else:\n",
    "            result += i.upper()\n",
    "    print(result)\n",
    "    return result\n",
    "            \n",
    "swap(\"Aloha\"); # returns \"aLOHA\"\n",
    "swap(\"Love you.\"); # returns \"lOVE YOU.\"\n",
    "            "
   ]
  },
  {
   "cell_type": "code",
   "execution_count": 11,
   "id": "66361c4a",
   "metadata": {},
   "outputs": [
    {
     "name": "stdout",
     "output_type": "stream",
     "text": [
      "1\n",
      "undefined\n",
      "-10\n"
     ]
    }
   ],
   "source": [
    "# Write a function called \"findMin\" which takes an list as input, \n",
    "# and returns the minimum element in the input list.\n",
    "\n",
    "def findMin(lst):\n",
    "    if len(lst) == 0:\n",
    "        print('undefined')\n",
    "        return 'undefined'\n",
    "    \n",
    "    min_element = lst[0]\n",
    "    for ele in lst:\n",
    "        if ele < min_element:\n",
    "            min_element = ele\n",
    "    print(min_element)\n",
    "    return min_element\n",
    "        \n",
    "        \n",
    "findMin([1, 2, 5, 6, 99, 4, 5]); # returns 1\n",
    "findMin([]); # returns undefined\n",
    "findMin([1, 6, 0, 33, 44, 88, -10]); # returns -10"
   ]
  }
 ],
 "metadata": {
  "kernelspec": {
   "display_name": "Python 3 (ipykernel)",
   "language": "python",
   "name": "python3"
  },
  "language_info": {
   "codemirror_mode": {
    "name": "ipython",
    "version": 3
   },
   "file_extension": ".py",
   "mimetype": "text/x-python",
   "name": "python",
   "nbconvert_exporter": "python",
   "pygments_lexer": "ipython3",
   "version": "3.9.13"
  }
 },
 "nbformat": 4,
 "nbformat_minor": 5
}
