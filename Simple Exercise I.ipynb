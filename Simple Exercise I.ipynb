{
 "cells": [
  {
   "cell_type": "code",
   "execution_count": 2,
   "id": "7677715e",
   "metadata": {
    "collapsed": true
   },
   "outputs": [
    {
     "name": "stdout",
     "output_type": "stream",
     "text": [
      "1\n",
      "2\n",
      "3\n",
      "4\n",
      "5\n",
      "6\n",
      "7\n",
      "8\n",
      "9\n",
      "10\n",
      "11\n",
      "12\n",
      "13\n",
      "14\n",
      "15\n",
      "16\n",
      "17\n",
      "18\n",
      "19\n",
      "20\n",
      "21\n",
      "22\n",
      "23\n",
      "24\n",
      "25\n",
      "26\n",
      "27\n",
      "28\n",
      "29\n",
      "30\n",
      "31\n",
      "32\n",
      "33\n",
      "34\n",
      "35\n",
      "36\n",
      "37\n",
      "38\n",
      "39\n",
      "40\n",
      "41\n",
      "42\n",
      "43\n",
      "44\n",
      "45\n",
      "46\n",
      "47\n",
      "48\n",
      "49\n",
      "50\n",
      "51\n",
      "52\n",
      "53\n",
      "54\n",
      "55\n",
      "56\n",
      "57\n",
      "58\n",
      "59\n",
      "60\n",
      "61\n",
      "62\n",
      "63\n",
      "64\n",
      "65\n",
      "66\n",
      "67\n",
      "68\n",
      "69\n",
      "70\n",
      "71\n",
      "72\n",
      "73\n",
      "74\n",
      "75\n",
      "76\n",
      "77\n",
      "78\n",
      "79\n",
      "80\n",
      "81\n",
      "82\n",
      "83\n",
      "84\n",
      "85\n",
      "86\n",
      "87\n",
      "88\n",
      "89\n",
      "90\n",
      "91\n",
      "92\n",
      "93\n",
      "94\n",
      "95\n",
      "96\n",
      "97\n",
      "98\n",
      "99\n",
      "100\n"
     ]
    }
   ],
   "source": [
    "# Write a function called \"printMany\" that prints out integers 1, 2, 3, ..., 100.\n",
    "\n",
    "def printMany():\n",
    "     for i in range(1,101):\n",
    "            print(i)\n",
    "printMany()\n",
    "\n",
    "# def printMany(start,end):\n",
    "#      for i in range(start,end+1):\n",
    "#             print(i)\n",
    "# printMany(1,100)"
   ]
  },
  {
   "cell_type": "code",
   "execution_count": 6,
   "id": "d738de66",
   "metadata": {
    "collapsed": true
   },
   "outputs": [
    {
     "name": "stdout",
     "output_type": "stream",
     "text": [
      "1\n",
      "4\n",
      "7\n",
      "10\n",
      "13\n",
      "16\n",
      "19\n",
      "22\n",
      "25\n",
      "28\n",
      "31\n",
      "34\n",
      "37\n",
      "40\n",
      "43\n",
      "46\n",
      "49\n",
      "52\n",
      "55\n",
      "58\n",
      "61\n",
      "64\n",
      "67\n",
      "70\n",
      "73\n",
      "76\n",
      "79\n",
      "82\n",
      "85\n",
      "88\n"
     ]
    }
   ],
   "source": [
    "# Write a function called \"printEvery3\" that prints out integers 1, 4, 7, 10, ..., 88.\n",
    "\n",
    "def printEvery3():\n",
    "    for i in range(1,90,3):\n",
    "        print(i)\n",
    "printEvery3()\n",
    "\n",
    "# def printEvery3(start, end):\n",
    "#     for i in range(start, end, 3):\n",
    "#         print(i)\n",
    "# printEvery3(1,90)"
   ]
  },
  {
   "cell_type": "code",
   "execution_count": 26,
   "id": "7c1a719d",
   "metadata": {},
   "outputs": [
    {
     "name": "stdout",
     "output_type": "stream",
     "text": [
      "-1\n",
      "('A', 0)\n",
      "('C', 2)\n"
     ]
    }
   ],
   "source": [
    "# Write a function called \"position\" that returns a tuple of the first uppercase letter and its index location. \n",
    "# If not found, returns -1.\n",
    "\n",
    "def position(string):\n",
    "    for index, s in enumerate(string):\n",
    "        if s == s.upper():\n",
    "            return (s, index)\n",
    "    return -1   \n",
    "\n",
    "print(position(\"abcd\"))  # returns -1\n",
    "print(position(\"AbcD\"))  # returns ('A', 0)\n",
    "print(position(\"abCD\"))  # returns ('C', 2)\n",
    "        "
   ]
  },
  {
   "cell_type": "code",
   "execution_count": 58,
   "id": "ed2d3b7d",
   "metadata": {},
   "outputs": [
    {
     "name": "stdout",
     "output_type": "stream",
     "text": [
      "1\n",
      "0\n"
     ]
    }
   ],
   "source": [
    "# Write a function called \"findSmallCount\" that takes one list of integers and one integer as input, \n",
    "# and returns an integer indicating how many elements in the list is smaller than the input integer.\n",
    "\n",
    "\n",
    "def findSmallCount(myList, integer):\n",
    "    num = 0\n",
    "    for i in myList:\n",
    "        if i < integer:\n",
    "            num = num + 1\n",
    "    print(num)\n",
    "    return num\n",
    "\n",
    "findSmallCount([1, 2, 3], 2); # returns 1\n",
    "findSmallCount([1, 2, 3, 4, 5], 0); # returns 0"
   ]
  },
  {
   "cell_type": "code",
   "execution_count": 61,
   "id": "54599079",
   "metadata": {},
   "outputs": [
    {
     "name": "stdout",
     "output_type": "stream",
     "text": [
      "3\n",
      "0\n",
      "25\n",
      "0\n"
     ]
    },
    {
     "data": {
      "text/plain": [
       "0"
      ]
     },
     "execution_count": 61,
     "metadata": {},
     "output_type": "execute_result"
    }
   ],
   "source": [
    "# Write a function called \"findSmallerTotal\" that takes one list of integers and one integer as input, \n",
    "# and returns the sum of all elements in the list that are smaller than the input integer. \n",
    "\n",
    "def findSmallerTotal(myList, integer):\n",
    "    sum = 0\n",
    "    for i in myList:\n",
    "        if i < integer:\n",
    "            sum = sum + i\n",
    "    print(sum)\n",
    "    return sum\n",
    "\n",
    "findSmallerTotal([1, 2, 3], 3) # returns 3\n",
    "findSmallerTotal([1, 2, 3], 1) # returns 0\n",
    "findSmallerTotal([3, 2, 5, 8, 7], 999) # returns 25\n",
    "findSmallerTotal([3, 2, 5, 8, 7], 1) # returns 0"
   ]
  },
  {
   "cell_type": "code",
   "execution_count": 63,
   "id": "85bd960e",
   "metadata": {},
   "outputs": [
    {
     "name": "stdout",
     "output_type": "stream",
     "text": [
      "[1, 2, 3]\n",
      "[1]\n",
      "[1, 3, 2]\n"
     ]
    }
   ],
   "source": [
    "# Write a function called \"findAllSmall\" that takes one list of integers and another integer as input, \n",
    "# and returns an list of integers that contains all elements that are smaller than the input integer.\n",
    "\n",
    "def findAllSmall(myList, integer):\n",
    "    smaller = [i for i in myList if i < integer]\n",
    "    print(smaller)\n",
    "    return smaller\n",
    "\n",
    "findAllSmall([1, 2, 3], 10); # returns [1, 2, 3]\n",
    "findAllSmall([1, 2, 3], 2); # returns [1]\n",
    "findAllSmall([1, 3, 5, 4, 2], 4); #  returns [1, 3, 2]"
   ]
  },
  {
   "cell_type": "code",
   "execution_count": 67,
   "id": "b2a3eea9",
   "metadata": {},
   "outputs": [
    {
     "name": "stdout",
     "output_type": "stream",
     "text": [
      "[1, 3, 2]\n"
     ]
    }
   ],
   "source": [
    "def findAllSmall(lst,num):\n",
    "    result = []\n",
    "    for i in lst:\n",
    "        if i < num:\n",
    "            result.append(i)\n",
    "    print(result)\n",
    "    return result\n",
    "\n",
    "findAllSmall([1, 3, 5, 4, 2], 4); #  returns [1, 3, 2]"
   ]
  },
  {
   "cell_type": "code",
   "execution_count": 64,
   "id": "0a37caf7",
   "metadata": {},
   "outputs": [
    {
     "name": "stdout",
     "output_type": "stream",
     "text": [
      "55\n",
      "0\n",
      "-60\n"
     ]
    }
   ],
   "source": [
    "# Write a function called \"summ\" that takes one list of numbers, \n",
    "# and return the sum of all elements in the input list.\n",
    "\n",
    "def summ(myList):\n",
    "    total = 0\n",
    "    for i in myList:\n",
    "        total = total + i\n",
    "    print(total)\n",
    "    return total\n",
    "\n",
    "summ([1, 2, 3, 4, 5, 6, 7, 8, 9, 10]); # returns 55\n",
    "summ([]); # return 0\n",
    "summ([-10, -20, -30]); # return -60"
   ]
  },
  {
   "cell_type": "code",
   "execution_count": null,
   "id": "b1c4f472",
   "metadata": {},
   "outputs": [],
   "source": []
  }
 ],
 "metadata": {
  "kernelspec": {
   "display_name": "Python 3 (ipykernel)",
   "language": "python",
   "name": "python3"
  },
  "language_info": {
   "codemirror_mode": {
    "name": "ipython",
    "version": 3
   },
   "file_extension": ".py",
   "mimetype": "text/x-python",
   "name": "python",
   "nbconvert_exporter": "python",
   "pygments_lexer": "ipython3",
   "version": "3.9.13"
  }
 },
 "nbformat": 4,
 "nbformat_minor": 5
}
