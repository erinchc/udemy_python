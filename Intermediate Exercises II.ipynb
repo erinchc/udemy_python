{
 "cells": [
  {
   "cell_type": "code",
   "execution_count": 13,
   "id": "56136592",
   "metadata": {},
   "outputs": [
    {
     "name": "stdout",
     "output_type": "stream",
     "text": [
      "120 = 2 x 2 x 2 x 3 x 5\n"
     ]
    }
   ],
   "source": [
    "# Write a function called \"factorPrime\" that takes an integer as input, \n",
    "# and returns the prime factorization of the input.\n",
    "\n",
    "def factorPrime(n):\n",
    "    answer = str(n) + ' = '\n",
    "    p = 2\n",
    "    while p <= n:\n",
    "        if n % p == 0:\n",
    "            answer += str(p) + ' x '\n",
    "            n = n / p\n",
    "        else:\n",
    "            p += 1\n",
    "    return answer[:len(answer)-3]\n",
    "            \n",
    "print(factorPrime(120)) # returns \"2 x 2 x 2 x 3 x 5\""
   ]
  },
  {
   "cell_type": "code",
   "execution_count": 19,
   "id": "978acbef",
   "metadata": {},
   "outputs": [
    {
     "name": "stdout",
     "output_type": "stream",
     "text": [
      "[3, 4]\n",
      "[2, 3, 4, 8]\n"
     ]
    }
   ],
   "source": [
    "# Write a function called \"intersection\" that takes 2 lists, \n",
    "# and returns an list of elements that are in the intersection of 2 list.\n",
    "\n",
    "# solution 1.\n",
    "def intersection(lst1, lst2):\n",
    "    result = []\n",
    "    for i in lst1:\n",
    "        for j in lst2:\n",
    "            if i == j:\n",
    "                result.append(i)\n",
    "    return result\n",
    "\n",
    "print(intersection([1, 3, 4, 6, 10], [5, 11, 4, 3, 100, 144, 0])); # returns [3, 4]\n",
    "print(intersection([2, 3, 4, 6, 8], [5, 11, 4, 3, 100, 2, 8])); "
   ]
  },
  {
   "cell_type": "code",
   "execution_count": 21,
   "id": "d4c3938b",
   "metadata": {},
   "outputs": [
    {
     "name": "stdout",
     "output_type": "stream",
     "text": [
      "[3, 4]\n"
     ]
    }
   ],
   "source": [
    "# solution 2.\n",
    "\n",
    "def my_intersection(lst1, lst2):\n",
    "    return list(set(lst1).intersection(set(lst2)))\n",
    "\n",
    "print(my_intersection([1, 3, 4, 6, 10], [5, 11, 4, 3, 100, 144, 0]));"
   ]
  },
  {
   "cell_type": "code",
   "execution_count": 25,
   "id": "dad3902e",
   "metadata": {},
   "outputs": [
    {
     "name": "stdout",
     "output_type": "stream",
     "text": [
      "[1, 2, 0, 1, 3, 1, 3, 3, 4, 1, 2]\n"
     ]
    }
   ],
   "source": [
    "# Write a function called \"flatten\" that flattens an list.\n",
    "\n",
    "result = []\n",
    "\n",
    "def flatten(lst):\n",
    "    for i in lst:\n",
    "        if type(i) == type([]):\n",
    "            flatten(i)\n",
    "        else:\n",
    "            result.append(i)\n",
    "    return result\n",
    "\n",
    "print(flatten([1, [[], 2, [0, [1]], [3]], [1, 3, [3], [4, [1]], [2]]]));\n",
    "# returns [1, 2, 0, 1, 3, 1, 3, 3, 4, 1, 2])"
   ]
  }
 ],
 "metadata": {
  "kernelspec": {
   "display_name": "Python 3 (ipykernel)",
   "language": "python",
   "name": "python3"
  },
  "language_info": {
   "codemirror_mode": {
    "name": "ipython",
    "version": 3
   },
   "file_extension": ".py",
   "mimetype": "text/x-python",
   "name": "python",
   "nbconvert_exporter": "python",
   "pygments_lexer": "ipython3",
   "version": "3.9.13"
  }
 },
 "nbformat": 4,
 "nbformat_minor": 5
}
